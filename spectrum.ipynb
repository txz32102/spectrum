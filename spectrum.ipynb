{
 "cells": [
  {
   "cell_type": "code",
   "execution_count": 2,
   "metadata": {},
   "outputs": [
    {
     "data": {
      "image/png": "[encoded data removed]",
      "text/plain": [
       "<Figure size 640x480 with 1 Axes>"
      ]
     },
     "metadata": {},
     "output_type": "display_data"
    }
   ],
   "source": [
    "import numpy as np\n",
    "import matplotlib.pyplot as plt\n",
    "import datetime\n",
    "\n",
    "# Load the NumPy data\n",
    "data = np.load('/home/musong/workspace/python/spectrum/data/X_toy.npy')\n",
    "\n",
    "# Extract the first dataset and first column\n",
    "first_column = data[0][:, 0]  # Assuming you want the first column\n",
    "\n",
    "# Create the plot\n",
    "plt.plot(first_column)\n",
    "plt.axis('off')  # Turn off the axis\n",
    "\n",
    "# Hide the spines\n",
    "plt.gca().spines['top'].set_visible(False)\n",
    "plt.gca().spines['right'].set_visible(False)\n",
    "plt.gca().spines['left'].set_visible(False)\n",
    "plt.gca().spines['bottom'].set_visible(False)\n",
    "\n",
    "\n",
    "now = datetime.datetime.now()\n",
    "\n",
    "# Format datetime for filename\n",
    "filename = now.strftime(\"log/%Y_%m_%d_%H_%M_%S_correct.png\")\n",
    "# Save the plot with a transparent background\n",
    "plt.savefig(filename, transparent=True, bbox_inches='tight', pad_inches=0, dpi=300)\n",
    "\n",
    "# Show the plot\n",
    "plt.show()\n",
    "\n"
   ]
  },
  {
   "cell_type": "code",
   "execution_count": 4,
   "metadata": {},
   "outputs": [
    {
     "data": {
      "image/png": "[encoded data removed]",
      "text/plain": [
       "<Figure size 640x480 with 1 Axes>"
      ]
     },
     "metadata": {},
     "output_type": "display_data"
    }
   ],
   "source": [
    "import numpy as np\n",
    "import matplotlib.pyplot as plt\n",
    "\n",
    "# Load the NumPy data\n",
    "data = np.load('/home/musong/workspace/python/spectrum/data/Y_toy.npy')\n",
    "\n",
    "# Extract the first dataset and first column\n",
    "first_column = data[0]  # Assuming you want the first column\n",
    "\n",
    "# Create the plot with a specific blue color\n",
    "plt.plot(first_column, color='#0000FF')  # Change to your desired hex color\n",
    "\n",
    "plt.axis('off')  # Turn off the axis\n",
    "\n",
    "# Hide the spines\n",
    "plt.gca().spines['top'].set_visible(False)\n",
    "plt.gca().spines['right'].set_visible(False)\n",
    "plt.gca().spines['left'].set_visible(False)\n",
    "plt.gca().spines['bottom'].set_visible(False)\n",
    "\n",
    "now = datetime.datetime.now()\n",
    "\n",
    "# Format datetime for filename\n",
    "filename = now.strftime(\"log/%Y_%m_%d_%H_%M_%S_correct.png\")\n",
    "\n",
    "# Save the figure\n",
    "plt.savefig(filename, transparent=True, bbox_inches='tight', pad_inches=0, dpi=300)\n",
    "\n",
    "# Show the plot\n",
    "plt.show()\n"
   ]
  }
 ],
 "metadata": {
  "kernelspec": {
   "display_name": "musong_base",
   "language": "python",
   "name": "python3"
  },
  "language_info": {
   "codemirror_mode": {
    "name": "ipython",
    "version": 3
   },
   "file_extension": ".py",
   "mimetype": "text/x-python",
   "name": "python",
   "nbconvert_exporter": "python",
   "pygments_lexer": "ipython3",
   "version": "3.11.10"
  }
 },
 "nbformat": 4,
 "nbformat_minor": 2
}
